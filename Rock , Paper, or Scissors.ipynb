{
 "cells": [
  {
   "cell_type": "code",
   "execution_count": 14,
   "id": "f2061731",
   "metadata": {},
   "outputs": [
    {
     "name": "stdout",
     "output_type": "stream",
     "text": [
      "You Lose\n",
      "computer choose :- Rock\n"
     ]
    }
   ],
   "source": [
    "import random as rd\n",
    "\n",
    "def Game():\n",
    "    choices=[\"Rock\",\"Paper\",\"Scissors\"]\n",
    "    user_choise=str(input(\"choose Rock , Paper, or Scissors\".lower()))\n",
    "    computer_choise=rd.choice(choices)\n",
    "    try:\n",
    "        if user_choise==computer_choise:\n",
    "            print(\"Match Tie\")\n",
    "        elif user_choise=='rock'and computer_choise==\"scissors\":\n",
    "            print(\"You Win\")\n",
    "        elif user_choise=='paper'and computer_choise=='rock':\n",
    "            print(\"You Win\")\n",
    "        elif user_choise==\"scissors\"and computer_choise=='paper':\n",
    "            print(\"You Win \")\n",
    "        else:\n",
    "            print(\"You Lose\\ncomputer choose :-\",computer_choise)\n",
    "    except ValueError:\n",
    "        print(\"Invalid input. Please enter a number.\")\n",
    "Game()"
   ]
  }
 ],
 "metadata": {
  "kernelspec": {
   "display_name": "Python 3",
   "language": "python",
   "name": "python3"
  },
  "language_info": {
   "codemirror_mode": {
    "name": "ipython",
    "version": 3
   },
   "file_extension": ".py",
   "mimetype": "text/x-python",
   "name": "python",
   "nbconvert_exporter": "python",
   "pygments_lexer": "ipython3",
   "version": "3.13.2"
  }
 },
 "nbformat": 4,
 "nbformat_minor": 5
}
